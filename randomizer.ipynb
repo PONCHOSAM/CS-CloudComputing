{
  "nbformat": 4,
  "nbformat_minor": 0,
  "metadata": {
    "colab": {
      "name": "randomizer",
      "provenance": [],
      "authorship_tag": "ABX9TyNpDnPrkwiu48JLhg+A3Ixz",
      "include_colab_link": true
    },
    "kernelspec": {
      "name": "python3",
      "display_name": "Python 3"
    },
    "language_info": {
      "name": "python"
    }
  },
  "cells": [
    {
      "cell_type": "markdown",
      "metadata": {
        "id": "view-in-github",
        "colab_type": "text"
      },
      "source": [
        "<a href=\"https://colab.research.google.com/github/PONCHOSAM/CS-CloudComputing/blob/main/randomizer.ipynb\" target=\"_parent\"><img src=\"https://colab.research.google.com/assets/colab-badge.svg\" alt=\"Open In Colab\"/></a>"
      ]
    },
    {
      "cell_type": "code",
      "execution_count": 32,
      "metadata": {
        "id": "HkhQ366DVo7N"
      },
      "outputs": [],
      "source": [
        "# mike code for thingy\n",
        "\n",
        "# importing csv module\n",
        "import csv\n",
        "import random"
      ]
    },
    {
      "cell_type": "code",
      "source": [
        "# initializing the titles and rows list\n",
        "filename = 'mikesheet.csv'\n",
        "names = []\n",
        "entries = []\n"
      ],
      "metadata": {
        "id": "In6yLYWbWFDa"
      },
      "execution_count": 33,
      "outputs": []
    },
    {
      "cell_type": "code",
      "source": [
        "with open(filename, 'r') as csvfile:\n",
        "    # creating a csv reader object\n",
        "    csvreader = csv.reader(csvfile)\n",
        "     \n",
        "    # extracting field names through first row\n",
        "    names = next(csvreader)\n",
        " \n",
        "    # extracting each data row one by one\n",
        "    for row in csvreader:\n",
        "        entries.append(row)\n",
        "#data has been imorted"
      ],
      "metadata": {
        "id": "reSFgIhZW6XZ"
      },
      "execution_count": 34,
      "outputs": []
    },
    {
      "cell_type": "code",
      "source": [
        "print(len(entries))\n",
        "big_list = []\n",
        "print(entries[0][1])\n"
      ],
      "metadata": {
        "colab": {
          "base_uri": "https://localhost:8080/"
        },
        "id": "IP1WBM5ZXcK2",
        "outputId": "daf968da-2003-419f-efc2-52a9c1835c1b"
      },
      "execution_count": 35,
      "outputs": [
        {
          "output_type": "stream",
          "name": "stdout",
          "text": [
            "9\n",
            "1\n"
          ]
        }
      ]
    },
    {
      "cell_type": "code",
      "source": [
        "for x in range (0 , len(entries)):\n",
        "  print(entries[x])\n",
        "  for y in range (0,int(entries[x][1])):\n",
        "    big_list.append(entries[x][0])"
      ],
      "metadata": {
        "colab": {
          "base_uri": "https://localhost:8080/"
        },
        "id": "cY28YgmcYeOV",
        "outputId": "545b77a2-f815-49cf-c685-ecab6b25c27f"
      },
      "execution_count": 36,
      "outputs": [
        {
          "output_type": "stream",
          "name": "stdout",
          "text": [
            "['a', '1']\n",
            "['b', '1']\n",
            "['c', '1']\n",
            "['d', '1']\n",
            "['e', '1']\n",
            "['f', '1']\n",
            "['g', '1']\n",
            "['h', '1']\n",
            "['i', '500']\n"
          ]
        }
      ]
    },
    {
      "cell_type": "code",
      "source": [
        "print(random.choice(big_list))"
      ],
      "metadata": {
        "colab": {
          "base_uri": "https://localhost:8080/"
        },
        "id": "K0ESaxsRZYvS",
        "outputId": "b9aefa05-e573-4be7-f91b-6d2fedb709ad"
      },
      "execution_count": 37,
      "outputs": [
        {
          "output_type": "stream",
          "name": "stdout",
          "text": [
            "i\n"
          ]
        }
      ]
    }
  ]
}